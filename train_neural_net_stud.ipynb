{
 "cells": [
  {
   "cell_type": "markdown",
   "metadata": {},
   "source": [
    "# Assignment 1 : Train a Neural Network "
   ]
  },
  {
   "cell_type": "markdown",
   "metadata": {},
   "source": [
    "### Goals\n",
    "\n",
    "Apply plain vanilla gradient descent to train a (relatively simple) neural network. \n",
    "The network can be used for a (relatively simple) binary classification task such as for distinguishing handwritten digits from images. \n",
    "\n",
    "For the implementation, a cost function is defined (on the training dataset) and the gradient w.r.t. the parameters of the model need to be calculated. \n",
    "\n",
    "The network is a _fully connected neural network_ (multi-layer perceptron, MLP) with a single hidden layer. The implementation should be capable of dealing with differently shaped input datasets (input size of flattened image $n_0$) and number of units in the hidden layer ($n$). This will allow to apply your implementation to different datasets, e.g. MNIST. \n",
    "\n",
    "**Overview**\n",
    "\n",
    "| Step | Content | Points |\n",
    "| :--- | :--- | :---: |\n",
    "| Step 1 | Derive Formulas | 10 |\n",
    "| Step 2 | Implement Model and Cost Function and its Gradients | 12 |\n",
    "| Step 3 | Implement Gradient Descent Training | 8 |\n",
    "| Step 4 | Apply GD to Wine Type Classification (red,white) | 6 |\n",
    "| Step 5 | Apply GD to MNIST | 6 |\n",
    "| Step 6 | Implement Gradient Checking | 8 |\n",
    "| Total | | 50 |\n",
    "\n",
    "\n",
    "Please send your solution per mail to [Martin](mailto:martin.melchior@fhnw.ch).\n"
   ]
  },
  {
   "cell_type": "markdown",
   "metadata": {},
   "source": [
    "## Introductionary Remarks: Imports, Plotting\n",
    "\n",
    "Implement the model as described below with <code>Numpy</code>. \n",
    "For plotting use <code>Matplotlib</code>. \n",
    "\n",
    "Hence, you will only need the following imports:\n"
   ]
  },
  {
   "cell_type": "code",
   "execution_count": 1,
   "metadata": {},
   "outputs": [],
   "source": [
    "import numpy as np\n",
    "import pandas as pd\n",
    "from sklearn.preprocessing import LabelEncoder\n",
    "import matplotlib\n",
    "import matplotlib.pyplot as plt"
   ]
  },
  {
   "cell_type": "markdown",
   "metadata": {},
   "source": [
    "For tracking progress of the optimization, you will plot the cost as a function of the iteration (or \"epoch\"). For this purpose, you can use the method <code>learningcurve_plots</code>. "
   ]
  },
  {
   "cell_type": "code",
   "execution_count": 2,
   "metadata": {},
   "outputs": [],
   "source": [
    "def learningcurve_plots(cost_hist, learning_speed_hist, logy=False, yrange=None):\n",
    "    \"\"\"\n",
    "    cost_hist -- history of cost values, as numpy-array of shape (T,1)\n",
    "    learning_speed_hist -- history of learning speed values, as numpy-array of shape (T,1)\n",
    "    logy -- if set to True will plot the y axis at logarithmic scale\n",
    "    \"\"\"\n",
    "    plt.figure(1)\n",
    "    T = len(cost_hist)\n",
    "    if logy:\n",
    "        plt.semilogy(np.arange(T),cost_hist,'b-')\n",
    "    else:\n",
    "        plt.plot(np.arange(T),cost_hist,'b-')\n",
    "    plt.title(\"Cost\")\n",
    "    if yrange:\n",
    "        plt.ylim(yrange[0])\n",
    "        \n",
    "    plt.figure(2)\n",
    "    T = len(learning_speed_hist)\n",
    "    if logy:\n",
    "        plt.semilogy(np.arange(T),learning_speed_hist,'g-')\n",
    "    else:\n",
    "        plt.plot(np.arange(T),learning_speed_hist,'g-')\n",
    "    plt.title(\"Learning Speed\")\n",
    "    if yrange:\n",
    "        plt.ylim(yrange[1])\n",
    "    "
   ]
  },
  {
   "cell_type": "markdown",
   "metadata": {},
   "source": [
    "## Step 1 : Derive Formulas for Binary Classification\n",
    "\n",
    "### (a) Model Function and Gradient \n",
    "\n",
    "In binary classification, we just distinguish two different classes from each other, which are given the labels $0$ and $1$. The model is designed to produce an output $a^{(out)}=\\sigma\\left(z^{(out)}\\right)$ which should provide a value close to $0$ for class $0$ and a value close to $1$ for class $1$ (see below how $z^{(out)}$ is defined). In the following, we describe the model function for which you should then compute the gradient. \n",
    "\n",
    "As described above, the model contains a single hidden layer with $n^{(h)}$ units which consume inputs from $n^{(in)}$ input elements (given by the given by the length of the input array). To compute the output from the input $x$, the following formulas hold:\n",
    "\n",
    "$a^{(h)} = \\sigma\\left(W^{(h)}\\cdot x + b^{(h)}\\right)$<br>\n",
    "$a^{(out)} = \\sigma\\left(W^{(out)}\\cdot a^{(h)} + b^{(out)}\\right)$\n",
    "\n",
    "where \n",
    "* $W^{(h)}$ is a $n^{(h)}\\times n^{(in)}$-matrix, \n",
    "* $b^{(h)}$ is a $n^{(h)}\\times 1$-matrix, \n",
    "* $W^{(out)}$ is a $1\\times n^{(h)}$-matrix, \n",
    "* $b^{(out)}$ is a scalar \n",
    "\n",
    "and $\\sigma(z)=\\frac{1}{1+\\exp(-z)}$ is the sigmoid function which is applied element-wise if the input is a vector or a matrix. The output of the model $a^{(out)}$ is a scalar. Note that the model output is a function of the input $x$ and the model parameters summarized as $\\theta$, i.e. \n",
    "\n",
    "$$a^{(out)}=y^{(pred)}(x^{(in)},\\theta)$$\n",
    "\n",
    "Derive the formulas for the partial derivatives with respect to the components of the parameters $\\theta$, i.e. of the components of $W^{(h)}, b^{(h)}, W^{(out)}, b^{(out)}$.\n",
    "Define a scheme that makes efficient use of intermediate results, i.e. make manifest the terms that can be re-used for computing the parameters of the output and the hidden layer as well as the terms that can be reused to compute the weights and the bias for the output or the hidden layer. \n"
   ]
  },
  {
   "cell_type": "raw",
   "metadata": {},
   "source": [
    "# YOUR RESULT\n",
    "# Alternatively, you can send your handwritten solution as separate document (pdf). "
   ]
  },
  {
   "cell_type": "markdown",
   "metadata": {
    "tags": []
   },
   "source": [
    "### (b) Cost Function and Derivatives\n",
    "\n",
    "As cost function, we use the binary cross-entropy loss applied to the model prediction $y^{(pred)}=a^{(out)}$ defined to be\n",
    "\n",
    "$$L(y^{(pred)}, y) = -y\\log(y^{(pred)})-(1-y)\\log(1-y^{(pred)})$$\n",
    "\n",
    "Here, $y$ denotes the binary label associated with the input, i.e. $y\\in\\{0,1\\}$. For a given input $x^{(in)}=x$ we use the model with parameters $\\theta$ to predict the output $y^{(pred)}(x,\\theta)=a^{(out)}$ and then compute the loss according to the formula above. \n",
    "\n",
    "The cost function is defined as the loss function averaged over all the samples in the dataset, i.e.\n",
    "\n",
    "$$C(\\theta) = \\frac{1}{N}\\sum_{i=1}^N\\,L\\left(y^{(pred)}(x^{(i)},\\theta), y^{(i)}\\right)$$\n",
    "\n",
    "We now use gradient descent to determine the parameters $\\theta$ at which the cost function becomes minimal.\n",
    "\n",
    "When computing the gradient of this cost w.r.t. model parameters, you need to compute the derivative of the cross entropy loss function, $L$ w.r.t. $y^{(pred)}$  and apply the chain rule.\n",
    "\n",
    "Derive the formula for the derivative of $L$ w.r.t. $y^{(pred)}$."
   ]
  },
  {
   "cell_type": "raw",
   "metadata": {},
   "source": [
    "# YOUR RESULT\n",
    "# Alternatively, you can send your handwritten solution as separate document (pdf). "
   ]
  },
  {
   "cell_type": "markdown",
   "metadata": {},
   "source": [
    "### (c) Gradient of Cost Function w.r.t. Parameters of the Model\n",
    "\n",
    "Finally, you can combine the results of (a) and (b) and provide the formulas for the derivatives of the cost function w.r.t. the parameters of the model. Try to formulate the result with arrays and manipulations of arrays without summing over its indices (e.g. with matrix multiplication, etc.). These arrays operations can be efficiently computed by using numpy."
   ]
  },
  {
   "cell_type": "raw",
   "metadata": {},
   "source": [
    "# YOUR RESULT\n",
    "# Alternatively, you can send your handwritten solution as separate document (pdf). "
   ]
  },
  {
   "cell_type": "markdown",
   "metadata": {},
   "source": [
    "## Step 2 : Implement Model and Cost Function and its Gradient\n",
    "\n",
    "Here, you translate the formulas of step 1 into code. \n",
    "\n",
    "### (a) Model\n",
    "\n",
    "For convenience, we define the model as a python class which allows to keep the parameters and intermediate results (such as $a^{(h)}$) as member variables.\n",
    "\n",
    "The class should have the following methods:\n",
    "* $forward(x)$ : Compute the model output when passing an input $x$ through the model. Implement it such that you can handle multiple inputs at the same time, i.e. assume $x$ is a numpy array of shape $(n^{(in)},N)$ where $N$ is the number of inputs.\n",
    "* $backprop(\\dots)$ : Compute the gradient with respect to the model parameters. \n",
    "* $initialize(\\dots)$ : Set initial values for the model parameters.\n",
    "* $update\\_params(\\dots)$: Update the model parameters in accordance with the gradient descent update rule.\n",
    "\n",
    "Make efficient use of the scheme derived in problem 1 by keeping intermediate results as member variables. Assume that $backprop$ is called after $forward$ has been invoked. Introduce suitable member variables for the intermediate variables needed for the computation of the gradients. Furthermore, introduce member variables for the parameters (weights, bias) and their gradients.  \n",
    "\n",
    "Assume the following shapes for the quantities involved ($n^{(in)}=n0, n^{(h)}=n1$):\n",
    "* $W^{(h)}$ : 2d numpy array of shape (n1,n0)\n",
    "* $b^{(h)}$ : 1d numpy array of shape (n1,1)\n",
    "* $W^{(out)}$ : 1d numpy array of shape (1,n1)\n",
    "* $b^{(out)}$ : scalar quantity \n",
    "* $x^{(in)}$ : 2d numpy array of shape (n0,N)\n",
    "* $a^{(h)}$ : 2d numpy array of shape (n1,N)\n",
    "* $a^{(out)}$ : 2d numpy array of shape (1,N)\n",
    "\n",
    "Note by doing this, we keep the different samples in the columns of the arrays for the input and the activation in the hidden layer and the output .\n",
    "\n",
    "For the gradients, there will be a contribution for each input which needs to be properly averaged. The resulting gradient should have the same dimension as the parameter arrays. The input to the $backprop$ function is fed in form of the derivative of the loss function (evaluated element-wise per sample). This will allow to compute gradients with respect to the parameters, properly averaged over all the samples ($N$). \n",
    "\n",
    "In view of the unit tests (see below), we follow (our) convention that the parameters arrays (weights, biases) have the same shape as the gradients of the loss w.r.t. these parameters arrays.\n",
    "\n",
    "Complete the methods of the function below where needed (or as indicated with <code>## START YOUR CODE ##</code> or <code>## END YOUR CODE ##</code>).\n"
   ]
  },
  {
   "cell_type": "code",
   "execution_count": 3,
   "metadata": {},
   "outputs": [],
   "source": [
    "class Model:\n",
    "\n",
    "    def __init__(self, ninput, nhidden):\n",
    "        \"\"\"\n",
    "        Constructor of the model designed for given input dimension and number of units in hidden layer.\n",
    "        \n",
    "        Arguments:\n",
    "        ninput - size of input (n0)\n",
    "        nhidden - size of hidden layer (n1)\n",
    "        \"\"\"\n",
    "        self.ninput = ninput\n",
    "        self.nhidden = nhidden\n",
    "        \n",
    "    def _sigmoid(self, z):\n",
    "        return 1.0 / (1.0 + np.exp(-z))\n",
    "    \n",
    "    def initialize(self, initial_weights_hidden, initial_weights_output):\n",
    "        \"\"\"\n",
    "        Initialize the weights of the model with given input arguments and reset the biases to zero values. \n",
    "        \n",
    "        Arguments:\n",
    "        initial_weights_hidden - initial weights of the hidden layer (must be of shape (nhidden, ninput))\n",
    "        initial_weights_output - initial weights of output layer (must be of shape (1, nhidden))\n",
    "        \"\"\"\n",
    "        assert (self.nhidden,self.ninput)==initial_weights_hidden.shape\n",
    "        assert (1,self.nhidden)==initial_weights_output.shape\n",
    "        self.weights_hidden = initial_weights_hidden\n",
    "        self.weights_output = initial_weights_output\n",
    "        self.bias_hidden = np.zeros((self.nhidden,1), dtype=float)\n",
    "        self.bias_output = 0.0\n",
    "        \n",
    "    def forward(self, x):\n",
    "        \"\"\"\n",
    "        Computes the forward path through the model. Keeps as state variables the inputs and the activations of the hidden layer and the output layer \n",
    "        (as numpy arrays of shape (n0,N), (n1,N), (1,N)). The activations of the output layer are given as return values.\n",
    "        \n",
    "        Arguments:\n",
    "        x - shape (n0, N)\n",
    "        \n",
    "        Returns:\n",
    "        output of the model, numpy array of shape (1,N)\n",
    "        \"\"\"\n",
    "        ## START YOUR CODE ##\n",
    "        \n",
    "\n",
    "        \n",
    "        \n",
    "        \n",
    "        \n",
    "        \n",
    "        \n",
    "        \n",
    "        \n",
    "        \n",
    "        ## END YOUR CODE ##\n",
    "        \n",
    "    def backprop(self, deriv_loss):\n",
    "        \"\"\"\n",
    "        The computation is done after running forward(). It keeps the gradient components with respect to the different \n",
    "        parameters in suitable arrays defined as member variables: \n",
    "        - grad_weights_hidden\n",
    "        - grad_bias_hidden\n",
    "        - grad_weights_output\n",
    "        - grad_bias_output\n",
    "        Note by passing in the derivate with respect to the loss it allows to compute the components of the gradient of the loss.\n",
    "        \n",
    "        Arguments:\n",
    "        deriv_loss - the gradient of the loss w.r.t. output of the model, a numpy array of shape (1,N)\n",
    "        \n",
    "        Returns:\n",
    "        None\n",
    "        \n",
    "        \"\"\"\n",
    "        # number of samples\n",
    "        N = deriv_loss.shape[1]\n",
    "        \n",
    "        ## START YOUR CODE ##\n",
    "        # output layer\n",
    "\n",
    "        \n",
    "        \n",
    "        \n",
    "        \n",
    "          \n",
    "        # hidden layer\n",
    " \n",
    "        \n",
    "        \n",
    "        \n",
    "        \n",
    "        \n",
    "        ## END YOUR CODE ##\n",
    "        \n",
    "        \n",
    "    def update_params(self, lr):\n",
    "        \"\"\"\n",
    "        Updates the parameters of the model according to gradient descent. It is assumed that the weights are properly initialized and the gradients\n",
    "        previously computed.\n",
    "        \n",
    "        Arguments:\n",
    "        lr - learning rate\n",
    "        \n",
    "        Returns:\n",
    "        None\n",
    "        \n",
    "        \"\"\"\n",
    "        ## START YOUR CODE ##\n",
    "\n",
    "        \n",
    "        \n",
    "        \n",
    "        \n",
    "        \n",
    "        ## END YOUR CODE ##\n",
    "            "
   ]
  },
  {
   "cell_type": "markdown",
   "metadata": {},
   "source": [
    "#### TEST"
   ]
  },
  {
   "cell_type": "code",
   "execution_count": 4,
   "metadata": {},
   "outputs": [],
   "source": [
    "# Unit test - following the convention that \n",
    "# shape of gradients w.r.t. weights/biases = shape of weights/biases\n",
    "\n",
    "# Test with a tiny model and one sample\n",
    "mtest = Model(2,3)\n",
    "whidden = np.array([[0.1,0.9],[-0.2,0.7],[1.1,-1]]).reshape(3,2)\n",
    "woutput = np.array([[0.5,-0.3,.1],]).reshape(1,3)\n",
    "\n",
    "# sample\n",
    "x = np.array([1,1]).reshape(2,1)\n",
    "\n",
    "# initialize\n",
    "mtest.initialize(whidden, woutput)\n",
    "np.testing.assert_array_almost_equal_nulp(whidden, mtest.weights_hidden)\n",
    "np.testing.assert_array_almost_equal_nulp(woutput, mtest.weights_output)\n",
    "\n",
    "# forward\n",
    "np.testing.assert_almost_equal(0.5575659, mtest.forward(x), decimal=7)\n",
    "\n",
    "# backward\n",
    "mtest.backprop(np.array([1,]).reshape(1,1))\n",
    "\n",
    "# shapes\n",
    "np.testing.assert_allclose((1,3), mtest.grad_weights_output.shape) # woutput.shape=(1,3)\n",
    "#mtest.grad_bias_output -> scalar value\n",
    "np.testing.assert_allclose((3,2), mtest.grad_weights_hidden.shape) # whidden.shape=(3,2)\n",
    "np.testing.assert_allclose((3,1), mtest.grad_bias_hidden.shape) # bias_hidden = (3,1)\n",
    "\n",
    "# regression results for the gradients\n",
    "np.testing.assert_almost_equal(0.24668616, mtest.grad_bias_output)\n",
    "np.testing.assert_array_almost_equal(np.array([0.18034203,0.1535521,0.1295051]).reshape(1,3), mtest.grad_weights_output, decimal=7)\n",
    "np.testing.assert_array_almost_equal(np.array([0.02425072,-0.01739165,0.00615176]).reshape(3,1), mtest.grad_bias_hidden, decimal=7)\n",
    "np.testing.assert_array_almost_equal(np.array([[0.02425072,-0.01739165,0.00615176],[0.02425072,-0.01739165,0.00615176]]).T, mtest.grad_weights_hidden, decimal=7)\n"
   ]
  },
  {
   "cell_type": "code",
   "execution_count": 5,
   "metadata": {},
   "outputs": [],
   "source": [
    "# Unit test - following the convention that \n",
    "# shape of gradients w.r.t. weights/biases = shape of weights/biases\n",
    "\n",
    "# Test with a tiny model and two samples\n",
    "mtest = Model(2,3)\n",
    "mtest.initialize(whidden, woutput)\n",
    "whidden = np.array([[0.1,0.9],[-0.2,0.7],[1.1,-1]]).reshape(3,2)\n",
    "woutput = np.array([[0.5,-0.3,.1],]).reshape(1,3)\n",
    "\n",
    "# sample\n",
    "x = np.array([[1,1],[-0.1,-0.6]]).T\n",
    "\n",
    "# forward\n",
    "np.testing.assert_array_almost_equal(np.array([0.5575659,0.5310971]).reshape(1,2), mtest.forward(x), decimal=7)\n",
    "\n",
    "# backward\n",
    "mtest.backprop(np.array([1,-0.1]).reshape(1,2))\n",
    "\n",
    "# shapes\n",
    "np.testing.assert_allclose((1,3), mtest.grad_weights_output.shape) # woutput.shape=(1,3)\n",
    "#mtest.grad_bias_output -> scalar value\n",
    "np.testing.assert_allclose((3,2), mtest.grad_weights_hidden.shape) # whidden.shape=(3,2)\n",
    "np.testing.assert_allclose((3,1), mtest.grad_bias_hidden.shape) # bias_hidden = (3,1)\n",
    "\n",
    "# regression results for the gradients\n",
    "np.testing.assert_almost_equal(0.1108914, mtest.grad_bias_output, decimal=7)\n",
    "np.testing.assert_array_almost_equal(np.array([0.0856154,0.0717791,0.0570312]).reshape(1,3), mtest.grad_weights_output, decimal=7)\n",
    "np.testing.assert_array_almost_equal(np.array([0.0106809,-0.0077983,0.0027826]).reshape(3,1), mtest.grad_bias_hidden, decimal=7)\n",
    "np.testing.assert_array_almost_equal(np.array([[0.01226980,-0.00878557,0.00310521],[0.01299202,-0.00923432,0.00325188]]).T, mtest.grad_weights_hidden, decimal=7)\n"
   ]
  },
  {
   "cell_type": "markdown",
   "metadata": {},
   "source": [
    "### (b) Cost, Loss \n",
    "\n",
    "Similarly, we define a class for the Cross-Entropy loss function. While the loss has been defined in 1b), the **cost** just takes the average over all data points in the dataset used for training.\n",
    "\n",
    "Implement for the cross-entropy class the instance methods \n",
    "* $cost(...)$\n",
    "* $derivative\\_loss(...)$\n",
    "\n",
    "as described below. Note that these are evaluated for given numpy arrays $ypred$ and $ytrue$ with the model prediction $a^{(out)}$ and the true label $y$, each of shape $(1,N)$. "
   ]
  },
  {
   "cell_type": "code",
   "execution_count": 6,
   "metadata": {},
   "outputs": [],
   "source": [
    "class CrossEntropy:\n",
    "\n",
    "    def cost(self, ypred, ytrue):\n",
    "        \"\"\"\n",
    "        Computes the average binary cross entropy cost for given arrays ytrue and ypred, with the ground truth label values (in {0,1}) \n",
    "        and the predicted proabability to observe label 1, respectively.  \n",
    "\n",
    "        Arguments:\n",
    "        ypred - numpy array of shape (1,N) with the predicted values for N data points\n",
    "        ytrue - numpy array of shape (1,N) with the ground truth values for N data points\n",
    "\n",
    "        Returns:\n",
    "        Cost averaged over the samples, i.e. a scalar value.\n",
    "        \"\"\"\n",
    "        assert ytrue.shape==ypred.shape\n",
    "        \n",
    "        ## START YOUR CODE ##\n",
    "\n",
    "        \n",
    "        \n",
    "        \n",
    "        ## END YOUR CODE ##\n",
    "    \n",
    "    def derivative_loss(self, ypred, ytrue):\n",
    "        \"\"\"\n",
    "        Computes the derivative of the cross entropy loss function for given true label y and predicted ypred. \n",
    "        We expect numpy arrays to be passed as input arguments, so that the derivative should be computed element-wise. \n",
    "\n",
    "        Arguments:\n",
    "        ypred - numpy array of shape (1,N) with the predicted values for N data points\n",
    "        ytrue - numpy array of shape (1,N) with the ground truth values for N data points\n",
    "\n",
    "        Returns:\n",
    "        Element-wise derivative of the loss function (numpy array of shape (1,N))\n",
    "        \"\"\"    \n",
    "        ## START YOUR CODE ##\n",
    "\n",
    "        \n",
    "        \n",
    "        \n",
    "        \n",
    "        ## END YOUR CODE ##\n",
    "        "
   ]
  },
  {
   "cell_type": "markdown",
   "metadata": {},
   "source": [
    "## Step 3: Implement the Gradient Descent Training (GD)\n",
    "\n",
    "Implement the gradient descent update loop for a given instance of the model and cost.\n",
    "\n",
    "In order to monitor the update of the training, keep book at each iteration about \n",
    "* value of the cost (at the given parameters)\n",
    "* learning speed (~length of the gradient) "
   ]
  },
  {
   "cell_type": "code",
   "execution_count": 7,
   "metadata": {},
   "outputs": [],
   "source": [
    "def vanilla_gradient_descent(model, cost, weights_hidden, weights_output, data, lr, epochs):\n",
    "    \"\"\"\n",
    "    Performs plain vanilla gradient descent for the cost function. The variables x of the function are provided as np-arrays.\n",
    "    \n",
    "    Arguments:\n",
    "    model -- model\n",
    "    cost -- cost function object\n",
    "    weights_hidden -- (initial) weights in the hidden layer (numpy array of shape (n1,n0))\n",
    "    weights_output -- (initial) weights in the output layer (numpy array of shape (1,n1))\n",
    "    data -- dataset as dictionary with the input data (key: \"input\" | value: numpy array of shape (n0,N)) and label data (key: \"label\" | numpy array of shape (1,N)) \n",
    "    lr -- learning rate\n",
    "    epochs -- maximum number of iterations\n",
    "    \n",
    "    Returns:\n",
    "    cost_hist -- history of the values of the cost function seen during the iteration loop: np-array of shape (T,1) where T is the number of iteration needed (also referred to as 'epochs').\n",
    "    learning_speed_hist -- history of the learning speed where the learning speed given by the norm of the difference between subsequent x-values: np-array of shape (T,1) where T is the number of iteration needed.\n",
    "    \"\"\"\n",
    "    \n",
    "    model.initialize(weights_hidden, weights_output)    \n",
    "    x = data[\"input\"]\n",
    "    ytrue = data[\"label\"]\n",
    "    \n",
    "    ## START YOUR CODE ##    \n",
    "    \n",
    "\n",
    "    \n",
    "    \n",
    "    \n",
    "    \n",
    "    \n",
    "    \n",
    "    \n",
    "    \n",
    "    \n",
    "    ## END YOUR CODE ##\n"
   ]
  },
  {
   "cell_type": "markdown",
   "metadata": {},
   "source": [
    "The following helper function should be used to initialize the weights arrays - it is passed to the $initialize$-method of the <code>Model</code> class.  "
   ]
  },
  {
   "cell_type": "code",
   "execution_count": 8,
   "metadata": {},
   "outputs": [],
   "source": [
    "def initial_weights(n0, n1):\n",
    "    \"\"\"\n",
    "    Prepares a random 2d numpy array of shape (n0,n1) suited as initial weights for the training of the neural network model.\n",
    "    \"\"\"\n",
    "    \n",
    "    weights_hidden = np.random.normal(size=(n1,n0), loc=0.0, scale=1.0/np.sqrt(n1*n0))\n",
    "    weights_output = np.random.normal(size=(1,n1), loc=0.0, scale=1.0/np.sqrt(n1))\n",
    "    return weights_hidden, weights_output"
   ]
  },
  {
   "cell_type": "markdown",
   "metadata": {},
   "source": [
    "## Step 4: Example Wine Type Classifier\n",
    "\n",
    "In this step you will use a neural Network model as implemented above to train a classifier for wine type (red | white) from a few characteritstics such as acidicity, sulfur content, pH value, density, alcohol content, etc. \n",
    "You are given two csv-files (wines.csv, winetypes.csv) that you can use for training. In the files wines_test.csv and winetypes_test.csv you have additional samples that are not used for training, but that you can use for testing for whether the trained model is suited for classifying \"new\" wines. This allows you to get a judgement about the trained classifier on samples not seen during training.\n",
    "\n",
    "### Load Data\n",
    "\n",
    "For loading the data, you can use the following code. Step through the following cells - you will see tables with the features and the type. The type information (red and white) is mapped to integer label values '0' and '1'. "
   ]
  },
  {
   "cell_type": "code",
   "execution_count": 9,
   "metadata": {
    "tags": []
   },
   "outputs": [],
   "source": [
    "df = pd.read_csv('../../data/winequality/winequality.csv').dropna()\n",
    "df = df.sample(frac=1).reset_index(drop=True)\n",
    "encoder = LabelEncoder()\n",
    "y = encoder.fit_transform(df['type'])\n",
    "df['type'] = y\n",
    "\n",
    "dftrain = df.iloc[:5000,:]\n",
    "dftest = df.iloc[5000:,:]\n",
    "\n",
    "dftrain.to_csv('../../data/winequality/wines.csv', index=False)\n",
    "dftest.to_csv('../../data/winequality/wines_test.csv', index=False)"
   ]
  },
  {
   "cell_type": "code",
   "execution_count": 10,
   "metadata": {
    "tags": []
   },
   "outputs": [
    {
     "data": {
      "text/html": [
       "<div>\n",
       "<style scoped>\n",
       "    .dataframe tbody tr th:only-of-type {\n",
       "        vertical-align: middle;\n",
       "    }\n",
       "\n",
       "    .dataframe tbody tr th {\n",
       "        vertical-align: top;\n",
       "    }\n",
       "\n",
       "    .dataframe thead th {\n",
       "        text-align: right;\n",
       "    }\n",
       "</style>\n",
       "<table border=\"1\" class=\"dataframe\">\n",
       "  <thead>\n",
       "    <tr style=\"text-align: right;\">\n",
       "      <th></th>\n",
       "      <th>type</th>\n",
       "      <th>fixed acidity</th>\n",
       "      <th>volatile acidity</th>\n",
       "      <th>citric acid</th>\n",
       "      <th>residual sugar</th>\n",
       "      <th>chlorides</th>\n",
       "      <th>free sulfur dioxide</th>\n",
       "      <th>total sulfur dioxide</th>\n",
       "      <th>density</th>\n",
       "      <th>pH</th>\n",
       "      <th>sulphates</th>\n",
       "      <th>alcohol</th>\n",
       "      <th>quality</th>\n",
       "    </tr>\n",
       "  </thead>\n",
       "  <tbody>\n",
       "    <tr>\n",
       "      <th>0</th>\n",
       "      <td>1</td>\n",
       "      <td>6.0</td>\n",
       "      <td>0.34</td>\n",
       "      <td>0.66</td>\n",
       "      <td>15.9</td>\n",
       "      <td>0.046</td>\n",
       "      <td>26.0</td>\n",
       "      <td>164.0</td>\n",
       "      <td>0.99790</td>\n",
       "      <td>3.14</td>\n",
       "      <td>0.50</td>\n",
       "      <td>8.8</td>\n",
       "      <td>6</td>\n",
       "    </tr>\n",
       "    <tr>\n",
       "      <th>1</th>\n",
       "      <td>1</td>\n",
       "      <td>6.5</td>\n",
       "      <td>0.16</td>\n",
       "      <td>0.34</td>\n",
       "      <td>1.4</td>\n",
       "      <td>0.029</td>\n",
       "      <td>29.0</td>\n",
       "      <td>133.0</td>\n",
       "      <td>0.99108</td>\n",
       "      <td>3.33</td>\n",
       "      <td>0.64</td>\n",
       "      <td>11.5</td>\n",
       "      <td>7</td>\n",
       "    </tr>\n",
       "    <tr>\n",
       "      <th>2</th>\n",
       "      <td>0</td>\n",
       "      <td>10.0</td>\n",
       "      <td>0.73</td>\n",
       "      <td>0.43</td>\n",
       "      <td>2.3</td>\n",
       "      <td>0.059</td>\n",
       "      <td>15.0</td>\n",
       "      <td>31.0</td>\n",
       "      <td>0.99660</td>\n",
       "      <td>3.15</td>\n",
       "      <td>0.57</td>\n",
       "      <td>11.0</td>\n",
       "      <td>5</td>\n",
       "    </tr>\n",
       "    <tr>\n",
       "      <th>3</th>\n",
       "      <td>1</td>\n",
       "      <td>7.2</td>\n",
       "      <td>0.26</td>\n",
       "      <td>0.44</td>\n",
       "      <td>7.1</td>\n",
       "      <td>0.027</td>\n",
       "      <td>25.0</td>\n",
       "      <td>126.0</td>\n",
       "      <td>0.99300</td>\n",
       "      <td>3.02</td>\n",
       "      <td>0.34</td>\n",
       "      <td>11.1</td>\n",
       "      <td>8</td>\n",
       "    </tr>\n",
       "    <tr>\n",
       "      <th>4</th>\n",
       "      <td>0</td>\n",
       "      <td>6.7</td>\n",
       "      <td>0.67</td>\n",
       "      <td>0.02</td>\n",
       "      <td>1.9</td>\n",
       "      <td>0.061</td>\n",
       "      <td>26.0</td>\n",
       "      <td>42.0</td>\n",
       "      <td>0.99489</td>\n",
       "      <td>3.39</td>\n",
       "      <td>0.82</td>\n",
       "      <td>10.9</td>\n",
       "      <td>6</td>\n",
       "    </tr>\n",
       "  </tbody>\n",
       "</table>\n",
       "</div>"
      ],
      "text/plain": [
       "   type  fixed acidity  volatile acidity  citric acid  residual sugar  \\\n",
       "0     1            6.0              0.34         0.66            15.9   \n",
       "1     1            6.5              0.16         0.34             1.4   \n",
       "2     0           10.0              0.73         0.43             2.3   \n",
       "3     1            7.2              0.26         0.44             7.1   \n",
       "4     0            6.7              0.67         0.02             1.9   \n",
       "\n",
       "   chlorides  free sulfur dioxide  total sulfur dioxide  density    pH  \\\n",
       "0      0.046                 26.0                 164.0  0.99790  3.14   \n",
       "1      0.029                 29.0                 133.0  0.99108  3.33   \n",
       "2      0.059                 15.0                  31.0  0.99660  3.15   \n",
       "3      0.027                 25.0                 126.0  0.99300  3.02   \n",
       "4      0.061                 26.0                  42.0  0.99489  3.39   \n",
       "\n",
       "   sulphates  alcohol  quality  \n",
       "0       0.50      8.8        6  \n",
       "1       0.64     11.5        7  \n",
       "2       0.57     11.0        5  \n",
       "3       0.34     11.1        8  \n",
       "4       0.82     10.9        6  "
      ]
     },
     "execution_count": 10,
     "metadata": {},
     "output_type": "execute_result"
    }
   ],
   "source": [
    "df = pd.read_csv('../../data/winequality/wines.csv')\n",
    "df.head()"
   ]
  },
  {
   "cell_type": "code",
   "execution_count": 11,
   "metadata": {},
   "outputs": [
    {
     "data": {
      "text/html": [
       "<div>\n",
       "<style scoped>\n",
       "    .dataframe tbody tr th:only-of-type {\n",
       "        vertical-align: middle;\n",
       "    }\n",
       "\n",
       "    .dataframe tbody tr th {\n",
       "        vertical-align: top;\n",
       "    }\n",
       "\n",
       "    .dataframe thead th {\n",
       "        text-align: right;\n",
       "    }\n",
       "</style>\n",
       "<table border=\"1\" class=\"dataframe\">\n",
       "  <thead>\n",
       "    <tr style=\"text-align: right;\">\n",
       "      <th></th>\n",
       "      <th>type</th>\n",
       "      <th>fixed acidity</th>\n",
       "      <th>volatile acidity</th>\n",
       "      <th>citric acid</th>\n",
       "      <th>residual sugar</th>\n",
       "      <th>chlorides</th>\n",
       "      <th>free sulfur dioxide</th>\n",
       "      <th>total sulfur dioxide</th>\n",
       "      <th>density</th>\n",
       "      <th>pH</th>\n",
       "      <th>sulphates</th>\n",
       "      <th>alcohol</th>\n",
       "      <th>quality</th>\n",
       "    </tr>\n",
       "  </thead>\n",
       "  <tbody>\n",
       "    <tr>\n",
       "      <th>0</th>\n",
       "      <td>1</td>\n",
       "      <td>6.4</td>\n",
       "      <td>0.320</td>\n",
       "      <td>0.26</td>\n",
       "      <td>7.9</td>\n",
       "      <td>0.050</td>\n",
       "      <td>53.0</td>\n",
       "      <td>180.0</td>\n",
       "      <td>0.995140</td>\n",
       "      <td>3.14</td>\n",
       "      <td>0.50</td>\n",
       "      <td>9.6</td>\n",
       "      <td>5</td>\n",
       "    </tr>\n",
       "    <tr>\n",
       "      <th>1</th>\n",
       "      <td>0</td>\n",
       "      <td>9.3</td>\n",
       "      <td>0.715</td>\n",
       "      <td>0.24</td>\n",
       "      <td>2.1</td>\n",
       "      <td>0.070</td>\n",
       "      <td>5.0</td>\n",
       "      <td>20.0</td>\n",
       "      <td>0.996600</td>\n",
       "      <td>3.12</td>\n",
       "      <td>0.59</td>\n",
       "      <td>9.9</td>\n",
       "      <td>5</td>\n",
       "    </tr>\n",
       "    <tr>\n",
       "      <th>2</th>\n",
       "      <td>0</td>\n",
       "      <td>7.5</td>\n",
       "      <td>0.380</td>\n",
       "      <td>0.57</td>\n",
       "      <td>2.3</td>\n",
       "      <td>0.106</td>\n",
       "      <td>5.0</td>\n",
       "      <td>12.0</td>\n",
       "      <td>0.996050</td>\n",
       "      <td>3.36</td>\n",
       "      <td>0.55</td>\n",
       "      <td>11.4</td>\n",
       "      <td>6</td>\n",
       "    </tr>\n",
       "    <tr>\n",
       "      <th>3</th>\n",
       "      <td>1</td>\n",
       "      <td>6.4</td>\n",
       "      <td>0.460</td>\n",
       "      <td>0.22</td>\n",
       "      <td>14.7</td>\n",
       "      <td>0.047</td>\n",
       "      <td>51.0</td>\n",
       "      <td>183.0</td>\n",
       "      <td>0.998275</td>\n",
       "      <td>3.39</td>\n",
       "      <td>0.60</td>\n",
       "      <td>10.5</td>\n",
       "      <td>5</td>\n",
       "    </tr>\n",
       "    <tr>\n",
       "      <th>4</th>\n",
       "      <td>1</td>\n",
       "      <td>6.7</td>\n",
       "      <td>0.200</td>\n",
       "      <td>0.41</td>\n",
       "      <td>9.1</td>\n",
       "      <td>0.044</td>\n",
       "      <td>50.0</td>\n",
       "      <td>166.0</td>\n",
       "      <td>0.995400</td>\n",
       "      <td>3.14</td>\n",
       "      <td>0.58</td>\n",
       "      <td>9.8</td>\n",
       "      <td>6</td>\n",
       "    </tr>\n",
       "  </tbody>\n",
       "</table>\n",
       "</div>"
      ],
      "text/plain": [
       "   type  fixed acidity  volatile acidity  citric acid  residual sugar  \\\n",
       "0     1            6.4             0.320         0.26             7.9   \n",
       "1     0            9.3             0.715         0.24             2.1   \n",
       "2     0            7.5             0.380         0.57             2.3   \n",
       "3     1            6.4             0.460         0.22            14.7   \n",
       "4     1            6.7             0.200         0.41             9.1   \n",
       "\n",
       "   chlorides  free sulfur dioxide  total sulfur dioxide   density    pH  \\\n",
       "0      0.050                 53.0                 180.0  0.995140  3.14   \n",
       "1      0.070                  5.0                  20.0  0.996600  3.12   \n",
       "2      0.106                  5.0                  12.0  0.996050  3.36   \n",
       "3      0.047                 51.0                 183.0  0.998275  3.39   \n",
       "4      0.044                 50.0                 166.0  0.995400  3.14   \n",
       "\n",
       "   sulphates  alcohol  quality  \n",
       "0       0.50      9.6        5  \n",
       "1       0.59      9.9        5  \n",
       "2       0.55     11.4        6  \n",
       "3       0.60     10.5        5  \n",
       "4       0.58      9.8        6  "
      ]
     },
     "execution_count": 11,
     "metadata": {},
     "output_type": "execute_result"
    }
   ],
   "source": [
    "dftest = pd.read_csv('../../data/winequality/wines_test.csv')\n",
    "dftest.head()"
   ]
  },
  {
   "cell_type": "code",
   "execution_count": 12,
   "metadata": {},
   "outputs": [
    {
     "name": "stdout",
     "output_type": "stream",
     "text": [
      "(12, 5000) (1, 5000)\n"
     ]
    }
   ],
   "source": [
    "x = df.drop('type', axis=1).values.T\n",
    "y = df['type'].values.reshape(1,x.shape[1])\n",
    "print(x.shape, y.shape)"
   ]
  },
  {
   "cell_type": "code",
   "execution_count": 13,
   "metadata": {},
   "outputs": [
    {
     "name": "stdout",
     "output_type": "stream",
     "text": [
      "(12, 1463) (1, 1463)\n"
     ]
    }
   ],
   "source": [
    "xtest = dftest.drop('type', axis=1).values.T\n",
    "ytest = dftest['type'].values.reshape(1,xtest.shape[1])\n",
    "print(xtest.shape, ytest.shape)"
   ]
  },
  {
   "cell_type": "markdown",
   "metadata": {},
   "source": [
    "### Run training of model\n",
    "\n",
    "Now instantiate a model with a suitable choice of $n0, n1$ and train it with the training data by using a suitable learning rate and number of epochs.\n",
    "Always check the learning curves for the cost. At the end of the training compute the training and test error rates (number of wrong prediction for training samples as a fraction of total number of traing samples and similarly for test error).\n",
    "Play with different $n1, lr, n_{\\rm epochs}$ to obtain a \"good\" model. What is \"good\"? "
   ]
  },
  {
   "cell_type": "code",
   "execution_count": 15,
   "metadata": {},
   "outputs": [
    {
     "name": "stdout",
     "output_type": "stream",
     "text": [
      "Learning Rate: 0.02000\n",
      "Epochs: 1000.00000\n",
      "Number of iterations: 1000, final cost: 0.19699, final speed: 0.03738\n",
      "Error Rate (training|test): 0.06280 | 0.07382\n"
     ]
    },
    {
     "data": {
      "image/png": "[encoded data removed]",
      "text/plain": [
       "<Figure size 432x288 with 1 Axes>"
      ]
     },
     "metadata": {
      "needs_background": "light"
     },
     "output_type": "display_data"
    },
    {
     "data": {
      "image/png": "[encoded data removed]",
      "text/plain": [
       "<Figure size 432x288 with 1 Axes>"
      ]
     },
     "metadata": {
      "needs_background": "light"
     },
     "output_type": "display_data"
    }
   ],
   "source": [
    "## START YOUR CODE ##\n",
    "\n",
    "n0,n1 = ...\n",
    "lr = ...\n",
    "epochs = ...\n",
    "print(\"Learning Rate: %6.5f\"%lr)\n",
    "print(\"Epochs: %6.5f\"%epochs)\n",
    "data ={'input':x,'label':y}\n",
    "\n",
    "# model, training\n",
    "model = ...\n",
    "cost = ...\n",
    "weights_hidden0, weights_output0 = initial_weights(n0, n1)\n",
    "\n",
    "cost_hist, learning_speed_hist = ...\n",
    "T = cost_hist.size-1\n",
    "print(\"Number of iterations: %i, final cost: %6.5f, final speed: %6.5f\"%(T, cost_hist[-1,0], learning_speed_hist[-1,0]))\n",
    "learningcurve_plots(cost_hist, learning_speed_hist, logy=True)\n",
    "\n",
    "# Error Rate\n",
    "error_rate = ...\n",
    "\n",
    "error_rate_test = ...\n",
    "\n",
    "print(\"Error Rate (training|test): %6.5f | %6.5f\"%(error_rate,error_rate_test))\n",
    "\n",
    "## END YOUR CODE ##"
   ]
  },
  {
   "cell_type": "raw",
   "metadata": {},
   "source": [
    "### YOUR finding and remarks.\n",
    "Evaluation of \n",
    "- n1, learning rate, number of epochs\n",
    "- train error rate vs test error rate\n",
    "...\n",
    "\n",
    "\n",
    "\n",
    "\n",
    "\n",
    "\n",
    "\n"
   ]
  },
  {
   "cell_type": "markdown",
   "metadata": {},
   "source": [
    "## Step 5: Apply GD to MNIST\n",
    "\n",
    "Here, we want to train a classifier for the MNIST dataset that is often used in machine learning. The images are hand-written digits of size 28x28. Hence, the samples will be arrays of length 28x28=784 and its elements correspond to the gray-scale values of the pixels (normalized to be included in [0,1]).\n",
    "For turning that into a binary classification problem, we filter the data for two selected digits, e.g. '5' and '8'.\n",
    "The label values are set to '1' (`true`) if the hand-written figure is a e.g. a '5' and '0' (`false`) if it is a '8'. \n",
    "\n",
    "### Load Data\n",
    "\n",
    "For loading the data, you can use the following code."
   ]
  },
  {
   "cell_type": "code",
   "execution_count": 16,
   "metadata": {},
   "outputs": [],
   "source": [
    "import struct\n",
    "import matplotlib.pyplot as plt\n",
    "\n",
    "def load_mnist(images_path, labels_path):\n",
    "    with open(labels_path, \"rb\") as lbpath:\n",
    "        magic, n = struct.unpack(\">II\", lbpath.read(8))\n",
    "        labels = np.fromfile(lbpath, dtype=np.uint8)\n",
    "    labels = labels.reshape(1,-1)\n",
    "    with open(images_path, \"rb\") as imgpath:\n",
    "        magic, num, rows, cols = struct.unpack(\">IIII\", imgpath.read(16))\n",
    "        images = np.fromfile(imgpath, dtype=np.uint8).reshape(-1,784).T\n",
    "    return images, labels\n",
    "\n",
    "def filter_digits(X,Y,digit1,digit2, split=0.8, shuffle=True):\n",
    "    X1=X[:,Y[0,:]==digit1]\n",
    "    N1 = X1.shape[1]\n",
    "    Y1=np.zeros((1,N1))\n",
    "    X2=X[:,Y[0,:]==digit2]\n",
    "    N2 = X2.shape[1]\n",
    "    Y2=np.ones((1,N2))\n",
    "    X = np.concatenate((X1,X2), axis=1)\n",
    "    Y = np.concatenate((Y1,Y2), axis=1)\n",
    "    N = X.shape[1]\n",
    "    if shuffle:\n",
    "        index = np.random.permutation(N)\n",
    "        X,Y = X[:,index], Y[:,index]\n",
    "    M = int(split*N)\n",
    "    Xtrain, Ytrain = X[:,:M], Y[:,:M]\n",
    "    Xtest, Ytest = X[:,M:], Y[:,M:]\n",
    "    return Xtrain, Ytrain, Xtest, Ytest\n",
    "    \n",
    "def display(X,Y,item):\n",
    "    plt.imshow( X[:,item].reshape(28,28), cmap='binary')\n",
    "    plt.title( \"Label: \" + str( Y[0,item] )) \n",
    "        \n",
    "\n",
    "PIXELS = (28,28)\n",
    "COLS = 5\n",
    "def plot_digits(X,Y,indices):\n",
    "    \"\"\"\n",
    "    Plots the digits in a mosaic with up to 8 columns\n",
    "\n",
    "    Arguments:\n",
    "    X -- data of size (1, 784)\n",
    "    Y -- label (a scalar)\n",
    "    indices -- list of indices    \n",
    "    \"\"\"\n",
    "    if len(indices)==0:\n",
    "        print(\"No images to show!\")\n",
    "        return\n",
    "    cols = min(COLS, len(indices))\n",
    "    rows = len(indices)/COLS+1\n",
    "    plt.figure(figsize=(20,5*rows))\n",
    "    for index, (image, label) in enumerate(zip(X.T[indices,:], Y.T[indices,:])):\n",
    "        plt.subplot(rows, cols, index+1)\n",
    "        plt.imshow(np.reshape(image, PIXELS), cmap=plt.cm.gray)\n",
    "        plt.title('Sample %i\\n Label %i\\n' % (indices[index],label), fontsize = 12)    "
   ]
  },
  {
   "cell_type": "code",
   "execution_count": 17,
   "metadata": {},
   "outputs": [
    {
     "name": "stdout",
     "output_type": "stream",
     "text": [
      "(784, 60000) (1, 60000)\n"
     ]
    }
   ],
   "source": [
    "images_path = \"../../data/mnist/train-images-idx3-ubyte\"\n",
    "labels_path = \"../../data/mnist/train-labels-idx1-ubyte\"\n",
    "X, Y = load_mnist( images_path, labels_path )\n",
    "\n",
    "print(X.shape,Y.shape)"
   ]
  },
  {
   "cell_type": "code",
   "execution_count": 105,
   "metadata": {},
   "outputs": [
    {
     "data": {
      "image/png": "[encoded data removed]",
      "text/plain": [
       "<Figure size 432x288 with 1 Axes>"
      ]
     },
     "metadata": {
      "needs_background": "light"
     },
     "output_type": "display_data"
    }
   ],
   "source": [
    "display(X,Y,0)"
   ]
  },
  {
   "cell_type": "markdown",
   "metadata": {},
   "source": [
    "Now, you can access the samples of the dataset by accessing the columns of $X$. In numpy: `x_i = X[:,i]`. \n",
    "If you reshape it to $28x28$ you can eventually recognize the digit depicted on the image (a '0' in the example below):"
   ]
  },
  {
   "cell_type": "code",
   "execution_count": 107,
   "metadata": {},
   "outputs": [
    {
     "name": "stdout",
     "output_type": "stream",
     "text": [
      "(784, 9017) (1, 9017) (784, 2255) (1, 2255)\n"
     ]
    }
   ],
   "source": [
    "digit1 = 5\n",
    "digit2 = 8\n",
    "Xtrain,Ytrain,Xtest,Ytest = filter_digits(X,Y,digit1, digit2, split=0.8, shuffle=True)\n",
    "print(Xtrain.shape, Ytrain.shape, Xtest.shape, Ytest.shape)"
   ]
  },
  {
   "cell_type": "code",
   "execution_count": 108,
   "metadata": {},
   "outputs": [
    {
     "name": "stderr",
     "output_type": "stream",
     "text": [
      "<ipython-input-103-c6d6fe588bb4>:55: MatplotlibDeprecationWarning: Passing non-integers as three-element position specification is deprecated since 3.3 and will be removed two minor releases later.\n",
      "  plt.subplot(rows, cols, index+1)\n"
     ]
    },
    {
     "data": {
      "image/png": "[encoded data removed]",
      "text/plain": [
       "<Figure size 1440x1080 with 10 Axes>"
      ]
     },
     "metadata": {
      "needs_background": "light"
     },
     "output_type": "display_data"
    }
   ],
   "source": [
    "plot_digits(Xtrain,Ytrain,range(10))"
   ]
  },
  {
   "cell_type": "markdown",
   "metadata": {},
   "source": [
    "### Train Model for 'binary' MNIST-Classification \n",
    "\n",
    "Apply the gradient descent to the model defined above. We here ignore ML specific aspects such as using a part of the data \n",
    "for validation and test or dealing with class-imbalance. We rather just want to see whether the optimization works.  \n",
    "\n",
    "(1) Apply the functionality implemented above to train MNIST. Use the <code>learningcurve_plots</code> to visualize whether gradient descent was performing well over the iterations. Also compute the _final error rate_, i.e. the percentage of wrong predictions. The predicted label can be obtained from $y^{(pred)}(\\theta,x)$ by just rounding it to 0 or 1.\n",
    "\n",
    "(2) Compare and characterize the shape of the learning for different learning rates. What's the \"best\" learning rate (<code>lr</code>). How many iterations (<code>epochs</code>) should be set?"
   ]
  },
  {
   "cell_type": "code",
   "execution_count": 128,
   "metadata": {},
   "outputs": [
    {
     "name": "stdout",
     "output_type": "stream",
     "text": [
      "Learning Rate: 0.00200\n",
      "Epochs: 200.00000\n",
      "Number of iterations: 200, final cost: 0.12121, final speed: 0.29926\n",
      "Error Rate (train|test): 0.03394 | 0.04169\n"
     ]
    },
    {
     "data": {
      "image/png": "[encoded data removed]",
      "text/plain": [
       "<Figure size 432x288 with 1 Axes>"
      ]
     },
     "metadata": {
      "needs_background": "light"
     },
     "output_type": "display_data"
    },
    {
     "data": {
      "image/png": "[encoded data removed]",
      "text/plain": [
       "<Figure size 432x288 with 1 Axes>"
      ]
     },
     "metadata": {
      "needs_background": "light"
     },
     "output_type": "display_data"
    }
   ],
   "source": [
    "## START YOUR CODE ##\n",
    "\n",
    "n0 = ...\n",
    "n1 = ...\n",
    "lr = ...\n",
    "epochs = ...\n",
    "data = {\"input\":Xtrain, \"label\":Ytrain}\n",
    "\n",
    "print(\"Learning Rate: %6.5f\"%lr)\n",
    "print(\"Epochs: %6.5f\"%epochs)\n",
    "\n",
    "model = ...\n",
    "cost = ....\n",
    "weights_hidden0, weights_output0 = initial_weights(n0, n1)\n",
    "\n",
    "cost_hist, learning_speed_hist = ...\n",
    "T = cost_hist.size-1\n",
    "print(\"Number of iterations: %i, final cost: %6.5f, final speed: %6.5f\"%(T, cost_hist[-1,0], learning_speed_hist[-1,0]))\n",
    "learningcurve_plots(cost_hist, learning_speed_hist, logy=True, yrange=((0.01,1.0),None))\n",
    "\n",
    "# Error Rate\n",
    "error_rate = ...\n",
    "error_rate_test = ...\n",
    "print(\"Error Rate (train|test): %6.5f | %6.5f\"%(error_rate,error_rate_test))\n",
    "\n",
    "# END YOUR CODE\n"
   ]
  },
  {
   "cell_type": "raw",
   "metadata": {},
   "source": [
    "### YOUR finding and remarks.\n",
    "Evaluation of \n",
    "- n1, learning rate, number of epochs\n",
    "- train error rate vs test error rate\n",
    "...\n",
    "\n",
    "\n",
    "\n",
    "\n",
    "\n",
    "\n",
    "\n"
   ]
  },
  {
   "cell_type": "markdown",
   "metadata": {},
   "source": [
    "## Step 6: Gradient Checking\n",
    "\n",
    "Implement the function `numerical_gradient` which computes the numerical gradient based on an approximation of the gradient at a small step size $\\varepsilon$. Use the formula: \n",
    "\n",
    "$$\n",
    "\\frac{\\partial f(x_1,\\dots,x_n)}{\\partial x_k} \\approx \\frac{f(x_1,\\dots,x_k+\\varepsilon,\\dots,x_n) - f(x_1,\\dots,x_k-\\varepsilon,\\dots,x_n)}{2\\varepsilon}.\n",
    "$$\n",
    "\n",
    "Using the class implemented above, you have access to \n",
    "* your implementation of the gradient $\\frac{\\partial y^{\\rm (pred)}(x,\\theta)}{\\partial \\theta_k}$ (the quantity under test)\n",
    "* the model function $y^{\\rm (pred)}(x,\\theta)$ that you can evaluate at different parameter values, all different in just a single component by the parameter $\\varepsilon$ (`eps`).\n",
    "\n",
    "You can set the parameter values by using the initialize method - by restricting to the _weights_ parameters of the model. This together with the `forward` allows you to compute the model output $a^{\\rm (out)}$ for given parameters and $x$. Thereafter, you can compute  the derivatives with respect to the weights by using `backprop`. Note that, as $x$-values, you can use some arbitrary samples (random generated or from the real data - see below). As derivatives w.r.t. the cost you can pass in just 1's.\n",
    "\n",
    "For which values of $\\varepsilon$ (`eps`) do we obtain a resonable numerical approxmiation of the gradient? Test different (not too large values) and use `matplotlib` for determining a reasonable `eps`.  Compute the norm of the the difference vector between the numerical approximation and the analytically computed gradient vector (by using the rules of calculus). "
   ]
  },
  {
   "cell_type": "code",
   "execution_count": 20,
   "metadata": {},
   "outputs": [],
   "source": [
    "def numerical_gradient(model, x, weights_hidden, weights_output, eps=1e-5 ):\n",
    "    \"\"\"\n",
    "    Compute for the given model, data point (x,y) and weights parameters (biases equal to zero) a numerical gradient approximation of the \n",
    "    gradient. \n",
    "    \n",
    "    Arguments:\n",
    "    model -- instance of the model class defined above\n",
    "    x -- data point (np.array with shape (ninput,))\n",
    "    weights_hidden -- weights matrix of shape (nhidden, ninput)\n",
    "    weights_output -- weights matrix of shape (noutput, nhidden)\n",
    "    eps -- value of epsilon (float)\n",
    "    \n",
    "    Returns:\n",
    "    gradient -- numerical gradient at the given weights parameters (for the hidden and the output layer)\n",
    "    \"\"\"\n",
    "    # START YOUR CODE\n",
    "\n",
    "    \n",
    "    \n",
    "    \n",
    "    \n",
    "    \n",
    "    \n",
    "    \n",
    "    \n",
    "    \n",
    "    \n",
    "    \n",
    "    \n",
    "    \n",
    "    \n",
    "    \n",
    "    \n",
    "    # END YOUR CODE"
   ]
  },
  {
   "cell_type": "code",
   "execution_count": 21,
   "metadata": {},
   "outputs": [
    {
     "name": "stdout",
     "output_type": "stream",
     "text": [
      "[1.20780323e-08 9.91737867e-11 7.83659337e-13 2.46922557e-14\n",
      " 3.55851428e-13 2.43777817e-12 2.70205356e-11 3.70317842e-10\n",
      " 2.74849114e-09]\n"
     ]
    },
    {
     "data": {
      "image/png": "[encoded data removed]",
      "text/plain": [
       "<Figure size 432x288 with 1 Axes>"
      ]
     },
     "metadata": {
      "needs_background": "light"
     },
     "output_type": "display_data"
    }
   ],
   "source": [
    "# Comparison with the analytically computed gradient vector\n",
    "\n",
    "# START YOUR CODE\n",
    "\n",
    "\n",
    "\n",
    "\n",
    "\n",
    "\n",
    "\n",
    "\n",
    "\n",
    "\n",
    "\n",
    "\n",
    "\n",
    "\n",
    "\n",
    "\n",
    "\n",
    "\n",
    "\n",
    "\n",
    "\n",
    "\n",
    "\n",
    "# END YOUR CODE"
   ]
  },
  {
   "cell_type": "code",
   "execution_count": null,
   "metadata": {},
   "outputs": [],
   "source": []
  }
 ],
 "metadata": {
  "kernelspec": {
   "display_name": "Python 3",
   "language": "python",
   "name": "python3"
  },
  "language_info": {
   "codemirror_mode": {
    "name": "ipython",
    "version": 3
   },
   "file_extension": ".py",
   "mimetype": "text/x-python",
   "name": "python",
   "nbconvert_exporter": "python",
   "pygments_lexer": "ipython3",
   "version": "3.8.8"
  }
 },
 "nbformat": 4,
 "nbformat_minor": 4
}
